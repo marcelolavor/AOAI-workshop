{
 "cells": [
  {
   "cell_type": "markdown",
   "metadata": {},
   "source": [
    "# Description:\n",
    "  - This example shows how to retrieve data from Azure SQL DB by using Open AI GPT.\n",
    "  - Asking questions in plain english that gets \"translated\" by GPT into SQL.\n",
    "  - Using Langchain SQLDatabaseChain\n",
    "  \n",
    "## Requirements:\n",
    "  - For this laboratory you need the Microsoft ODBC 18 driver installed in your system:\n",
    "    - Windows: https://learn.microsoft.com/en-us/sql/connect/odbc/download-odbc-driver-for-sql-server?view=sql-server-ver16#download-for-windows\n",
    "    - Mac: https://learn.microsoft.com/en-us/sql/connect/odbc/linux-mac/install-microsoft-odbc-driver-sql-server-macos?view=sql-server-ver15#microsoft-odbc-18\n",
    "    - Linux: https://learn.microsoft.com/en-us/sql/connect/odbc/linux-mac/installing-the-microsoft-odbc-driver-for-sql-server?view=sql-server-ver15&tabs=ubuntu18-install%2Cubuntu17-install%2Cdebian8-install%2Credhat7-13-install%2Crhel7-offline#18\n",
    "\n",
    "## Sample questions you can ask:\n",
    "  - List the tables in the database\n",
    "  - How many products are in the Adventure Works database?\n",
    "  - How many Products are color black?\n",
    "  - How many SalesOrderDetail are for the Product AWC Logo Cap ?\n",
    "  - List the top 10 most expensive products\n",
    "\n",
    "## For more information about Langchain agent toolkits, see:\n",
    "  https://python.langchain.com/docs/modules/agents/tools/toolkits\n"
   ]
  },
  {
   "cell_type": "code",
   "execution_count": 2,
   "metadata": {},
   "outputs": [],
   "source": [
    "from langchain_openai import AzureChatOpenAI\n",
    "from dotenv import load_dotenv\n",
    "import os\n",
    "from sqlalchemy import create_engine, text\n",
    "from sqlalchemy.engine import URL\n",
    "from langchain_community.utilities.sql_database import SQLDatabase\n",
    "from langchain_community.agent_toolkits import create_sql_agent, SQLDatabaseToolkit\n",
    "from langchain.chains import create_sql_query_chain\n",
    "\n",
    "load_dotenv()\n",
    "OPENAI_API_KEY = os.getenv(\"OPENAI_API_KEY\")\n",
    "OPENAI_DEPLOYMENT_ENDPOINT = os.getenv(\"OPENAI_DEPLOYMENT_ENDPOINT\")\n",
    "OPENAI_GPT35_DEPLOYMENT_NAME = os.getenv(\"OPENAI_GPT35_DEPLOYMENT_NAME\")\n",
    "OPENAI_GPT4_DEPLOYMENT_NAME = os.getenv(\"OPENAI_GPT4_DEPLOYMENT_NAME\")\n",
    "\n",
    "SQL_SERVER = os.getenv(\"SQL_SERVER\")\n",
    "SQL_USER = os.getenv(\"SQL_USER\")\n",
    "SQL_PWD = os.getenv(\"SQL_PWD\")\n",
    "SQL_DBNAME = os.getenv(\"SQL_DBNAME\")"
   ]
  },
  {
   "cell_type": "code",
   "execution_count": 3,
   "metadata": {},
   "outputs": [],
   "source": [
    "def init_llm(model=OPENAI_GPT35_DEPLOYMENT_NAME,\n",
    "             deployment_name=OPENAI_GPT35_DEPLOYMENT_NAME,\n",
    "             openai_api_version=\"2024-02-15-preview\",\n",
    "             temperature=0,\n",
    "             max_tokens=400\n",
    "             ):\n",
    "\n",
    "    llm = AzureChatOpenAI(deployment_name=deployment_name,\n",
    "                            model=model,\n",
    "                            openai_api_version=openai_api_version,\n",
    "                            azure_endpoint=OPENAI_DEPLOYMENT_ENDPOINT,\n",
    "                            temperature=temperature,\n",
    "                            max_tokens=max_tokens\n",
    "                            )\n",
    "    return llm\n",
    "\n",
    "llm = init_llm()"
   ]
  },
  {
   "cell_type": "code",
   "execution_count": 4,
   "metadata": {},
   "outputs": [
    {
     "name": "stdout",
     "output_type": "stream",
     "text": [
      "Connection successful!\n",
      "('Microsoft SQL Azure (RTM) - 12.0.2000.8 \\n\\tFeb  2 2024 04:20:23 \\n\\tCopyright (C) 2022 Microsoft Corporation\\n',)\n"
     ]
    }
   ],
   "source": [
    "# Configuration for the database connection\n",
    "db_config = {\n",
    "    'drivername': 'mssql+pyodbc',\n",
    "    'username': SQL_USER + '@' + SQL_SERVER,\n",
    "    'password': SQL_PWD,\n",
    "    'host': SQL_SERVER,\n",
    "    'port': 1433,\n",
    "    'database': SQL_DBNAME,\n",
    "    'query': {'driver': 'ODBC Driver 18 for SQL Server'},\n",
    "}\n",
    "\n",
    "# Create a URL object for connecting to the database\n",
    "db_url = URL.create(**db_config)\n",
    "\n",
    "# Connect to the Azure SQL Database using the URL string\n",
    "engine = create_engine(db_url)\n",
    "\n",
    "# Test the connection using the SQLAlchemy 2.0 execution style\n",
    "with engine.connect() as conn:\n",
    "    try:\n",
    "        # Use the text() construct for safer SQL execution\n",
    "        result = conn.execute(text(\"SELECT @@VERSION\"))\n",
    "        version = result.fetchone()\n",
    "        print(\"Connection successful!\")\n",
    "        print(version)\n",
    "    except Exception as e:\n",
    "        print(e)\n",
    "\n",
    "db = SQLDatabase.from_uri(db_url, schema='SalesLT')"
   ]
  },
  {
   "cell_type": "code",
   "execution_count": 5,
   "metadata": {},
   "outputs": [],
   "source": [
    "chain = create_sql_query_chain(llm, db)"
   ]
  },
  {
   "cell_type": "code",
   "execution_count": 6,
   "metadata": {},
   "outputs": [
    {
     "name": "stdout",
     "output_type": "stream",
     "text": [
      "Query generated by OpenAI: SELECT COUNT(*) AS TotalProducts\n",
      "FROM [SalesLT].[Product]\n"
     ]
    }
   ],
   "source": [
    "query = chain.invoke({\"question\":\"How many products are in the Adventure Works database using SalesLT schema?\"})\n",
    "print(\"Query generated by OpenAI: \" + query)"
   ]
  },
  {
   "cell_type": "code",
   "execution_count": 7,
   "metadata": {},
   "outputs": [
    {
     "data": {
      "text/plain": [
       "'[(295,)]'"
      ]
     },
     "execution_count": 7,
     "metadata": {},
     "output_type": "execute_result"
    }
   ],
   "source": [
    "db.run(query)"
   ]
  },
  {
   "cell_type": "code",
   "execution_count": 8,
   "metadata": {},
   "outputs": [
    {
     "name": "stdout",
     "output_type": "stream",
     "text": [
      "Query generated by OpenAI: SELECT COUNT(*) AS BlackProductsCount\n",
      "FROM [SalesLT].[Product]\n",
      "WHERE [Color] = 'Black'\n"
     ]
    }
   ],
   "source": [
    "query = chain.invoke({\"question\":\"How many Products are color black?\"})\n",
    "print(\"Query generated by OpenAI: \" + query)"
   ]
  },
  {
   "cell_type": "code",
   "execution_count": 9,
   "metadata": {},
   "outputs": [
    {
     "data": {
      "text/plain": [
       "'[(89,)]'"
      ]
     },
     "execution_count": 9,
     "metadata": {},
     "output_type": "execute_result"
    }
   ],
   "source": [
    "db.run(query)"
   ]
  },
  {
   "cell_type": "code",
   "execution_count": 10,
   "metadata": {},
   "outputs": [
    {
     "name": "stdout",
     "output_type": "stream",
     "text": [
      "Query generated by OpenAI: SELECT COUNT(*) AS TotalSalesOrderDetail\n",
      "FROM [SalesLT].[SalesOrderDetail] sod\n",
      "JOIN [SalesLT].[Product] p ON sod.ProductID = p.ProductID\n",
      "WHERE p.Name = 'AWC Logo Cap'\n"
     ]
    }
   ],
   "source": [
    "query = chain.invoke({\"question\":\"How many SalesOrderDetail are for the Product AWC Logo Cap ?\"})\n",
    "print(\"Query generated by OpenAI: \" + query)"
   ]
  },
  {
   "cell_type": "code",
   "execution_count": 11,
   "metadata": {},
   "outputs": [
    {
     "data": {
      "text/plain": [
       "'[(9,)]'"
      ]
     },
     "execution_count": 11,
     "metadata": {},
     "output_type": "execute_result"
    }
   ],
   "source": [
    "db.run(query)"
   ]
  },
  {
   "cell_type": "markdown",
   "metadata": {},
   "source": [
    "### Let's work with Agents to give some reasoning capabilities to our chatbot. \n",
    "GPT 4 is mandatory to run this section. GPT3.5 will make mistakes."
   ]
  },
  {
   "cell_type": "code",
   "execution_count": 12,
   "metadata": {},
   "outputs": [],
   "source": [
    "def init_llm(model=OPENAI_GPT4_DEPLOYMENT_NAME,\n",
    "             deployment_name=OPENAI_GPT4_DEPLOYMENT_NAME,\n",
    "             openai_api_version=\"2024-02-15-preview\",\n",
    "             temperature=0,\n",
    "             max_tokens=400\n",
    "             ):\n",
    "\n",
    "    llm = AzureChatOpenAI(deployment_name=deployment_name,\n",
    "                            model=model,\n",
    "                            api_key=OPENAI_API_KEY,\n",
    "                            openai_api_version=openai_api_version,\n",
    "                            azure_endpoint=OPENAI_DEPLOYMENT_ENDPOINT,\n",
    "                            temperature=temperature,\n",
    "                            max_tokens=max_tokens\n",
    "                            )\n",
    "    return llm\n",
    "\n",
    "llm = init_llm()"
   ]
  },
  {
   "cell_type": "code",
   "execution_count": 13,
   "metadata": {},
   "outputs": [],
   "source": [
    "toolkit = SQLDatabaseToolkit(db=db, llm=llm)\n",
    "\n",
    "agent_executor = create_sql_agent(\n",
    "    llm=llm,\n",
    "    toolkit=toolkit,\n",
    "    top_k=30,\n",
    "    agent_type=\"openai-tools\",\n",
    "    verbose=True\n",
    ")"
   ]
  },
  {
   "cell_type": "code",
   "execution_count": 18,
   "metadata": {},
   "outputs": [
    {
     "name": "stdout",
     "output_type": "stream",
     "text": [
      "\n",
      "\n",
      "\u001b[1m> Entering new SQL Agent Executor chain...\u001b[0m\n",
      "\u001b[32;1m\u001b[1;3m\n",
      "Invoking: `sql_db_list_tables` with ``\n",
      "\n",
      "\n",
      "\u001b[0m\u001b[38;5;200m\u001b[1;3mAddress, Customer, CustomerAddress, Product, ProductCategory, ProductDescription, ProductModel, ProductModelProductDescription, SalesOrderDetail, SalesOrderHeader\u001b[0m\u001b[32;1m\u001b[1;3m\n",
      "Invoking: `sql_db_schema` with `{'table_names': 'SalesOrderHeader,Address'}`\n",
      "\n",
      "\n",
      "\u001b[0m\u001b[33;1m\u001b[1;3m\n",
      "CREATE TABLE [SalesLT].[Address] (\n",
      "\t[AddressID] INTEGER NOT NULL IDENTITY(1,1), \n",
      "\t[AddressLine1] NVARCHAR(60) COLLATE SQL_Latin1_General_CP1_CI_AS NOT NULL, \n",
      "\t[AddressLine2] NVARCHAR(60) COLLATE SQL_Latin1_General_CP1_CI_AS NULL, \n",
      "\t[City] NVARCHAR(30) COLLATE SQL_Latin1_General_CP1_CI_AS NOT NULL, \n",
      "\t[StateProvince] NVARCHAR(50) COLLATE SQL_Latin1_General_CP1_CI_AS NOT NULL, \n",
      "\t[CountryRegion] NVARCHAR(50) COLLATE SQL_Latin1_General_CP1_CI_AS NOT NULL, \n",
      "\t[PostalCode] NVARCHAR(15) COLLATE SQL_Latin1_General_CP1_CI_AS NOT NULL, \n",
      "\trowguid UNIQUEIDENTIFIER NOT NULL DEFAULT (newid()), \n",
      "\t[ModifiedDate] DATETIME NOT NULL DEFAULT (getdate()), \n",
      "\tCONSTRAINT [PK_Address_AddressID] PRIMARY KEY ([AddressID])\n",
      ")\n",
      "\n",
      "/*\n",
      "3 rows from Address table:\n",
      "AddressID\tAddressLine1\tAddressLine2\tCity\tStateProvince\tCountryRegion\tPostalCode\trowguid\tModifiedDate\n",
      "9\t8713 Yosemite Ct.\tNone\tBothell\tWashington\tUnited States\t98011\t268af621-76d7-4c78-9441-144fd139821a\t2006-07-01 00:00:00\n",
      "11\t1318 Lasalle Street\tNone\tBothell\tWashington\tUnited States\t98011\t981b3303-aca2-49c7-9a96-fb670785b269\t2007-04-01 00:00:00\n",
      "25\t9178 Jumping St.\tNone\tDallas\tTexas\tUnited States\t75201\tc8df3bd9-48f0-4654-a8dd-14a67a84d3c6\t2006-09-01 00:00:00\n",
      "*/\n",
      "\n",
      "\n",
      "CREATE TABLE [SalesLT].[SalesOrderHeader] (\n",
      "\t[SalesOrderID] INTEGER NOT NULL DEFAULT (NEXT VALUE FOR [SalesLT].[SalesOrderNumber]), \n",
      "\t[RevisionNumber] TINYINT NOT NULL DEFAULT ((0)), \n",
      "\t[OrderDate] DATETIME NOT NULL DEFAULT (getdate()), \n",
      "\t[DueDate] DATETIME NOT NULL, \n",
      "\t[ShipDate] DATETIME NULL, \n",
      "\t[Status] TINYINT NOT NULL DEFAULT ((1)), \n",
      "\t[OnlineOrderFlag] BIT NOT NULL DEFAULT ((1)), \n",
      "\t[SalesOrderNumber] AS ((isnull(N'SO'+CONVERT([nvarchar](23),[SalesOrderID],(0)),N'*** ERROR ***'))) NOT NULL, \n",
      "\t[PurchaseOrderNumber] NVARCHAR(25) COLLATE SQL_Latin1_General_CP1_CI_AS NULL, \n",
      "\t[AccountNumber] NVARCHAR(15) COLLATE SQL_Latin1_General_CP1_CI_AS NULL, \n",
      "\t[CustomerID] INTEGER NOT NULL, \n",
      "\t[ShipToAddressID] INTEGER NULL, \n",
      "\t[BillToAddressID] INTEGER NULL, \n",
      "\t[ShipMethod] NVARCHAR(50) COLLATE SQL_Latin1_General_CP1_CI_AS NOT NULL, \n",
      "\t[CreditCardApprovalCode] VARCHAR(15) COLLATE SQL_Latin1_General_CP1_CI_AS NULL, \n",
      "\t[SubTotal] MONEY NOT NULL DEFAULT ((0.00)), \n",
      "\t[TaxAmt] MONEY NOT NULL DEFAULT ((0.00)), \n",
      "\t[Freight] MONEY NOT NULL DEFAULT ((0.00)), \n",
      "\t[TotalDue] AS ((isnull(([SubTotal]+[TaxAmt])+[Freight],(0)))) NOT NULL, \n",
      "\t[Comment] NVARCHAR(max) COLLATE SQL_Latin1_General_CP1_CI_AS NULL, \n",
      "\trowguid UNIQUEIDENTIFIER NOT NULL DEFAULT (newid()), \n",
      "\t[ModifiedDate] DATETIME NOT NULL DEFAULT (getdate()), \n",
      "\tCONSTRAINT [PK_SalesOrderHeader_SalesOrderID] PRIMARY KEY ([SalesOrderID]), \n",
      "\tCONSTRAINT [FK_SalesOrderHeader_Address_BillTo_AddressID] FOREIGN KEY([BillToAddressID]) REFERENCES [SalesLT].[Address] ([AddressID]), \n",
      "\tCONSTRAINT [FK_SalesOrderHeader_Address_ShipTo_AddressID] FOREIGN KEY([ShipToAddressID]) REFERENCES [SalesLT].[Address] ([AddressID]), \n",
      "\tCONSTRAINT [FK_SalesOrderHeader_Customer_CustomerID] FOREIGN KEY([CustomerID]) REFERENCES [SalesLT].[Customer] ([CustomerID])\n",
      ")\n",
      "\n",
      "/*\n",
      "3 rows from SalesOrderHeader table:\n",
      "SalesOrderID\tRevisionNumber\tOrderDate\tDueDate\tShipDate\tStatus\tOnlineOrderFlag\tSalesOrderNumber\tPurchaseOrderNumber\tAccountNumber\tCustomerID\tShipToAddressID\tBillToAddressID\tShipMethod\tCreditCardApprovalCode\tSubTotal\tTaxAmt\tFreight\tTotalDue\tComment\trowguid\tModifiedDate\n",
      "71774\t2\t2008-06-01 00:00:00\t2008-06-13 00:00:00\t2008-06-08 00:00:00\t5\tFalse\tSO71774\tPO348186287\t10-4020-000609\t29847\t1092\t1092\tCARGO TRANSPORT 5\tNone\t880.3484\t70.4279\t22.0087\t972.7850\tNone\t89e42cdc-8506-48a2-b89b-eb3e64e3554e\t2008-06-08 00:00:00\n",
      "71776\t2\t2008-06-01 00:00:00\t2008-06-13 00:00:00\t2008-06-08 00:00:00\t5\tFalse\tSO71776\tPO19952192051\t10-4020-000106\t30072\t640\t640\tCARGO TRANSPORT 5\tNone\t78.8100\t6.3048\t1.9703\t87.0851\tNone\t8a3448c5-e677-4158-a29b-dd33069be0b0\t2008-06-08 00:00:00\n",
      "71780\t2\t2008-06-01 00:00:00\t2008-06-13 00:00:00\t2008-06-08 00:00:00\t5\tFalse\tSO71780\tPO19604173239\t10-4020-000340\t30113\t653\t653\tCARGO TRANSPORT 5\tNone\t38418.6895\t3073.4952\t960.4672\t42452.6519\tNone\ta47665d2-7ac9-4cf3-8a8b-2a3883554284\t2008-06-08 00:00:00\n",
      "*/\u001b[0m\u001b[32;1m\u001b[1;3m\n",
      "Invoking: `sql_db_query_checker` with `SELECT TOP 10 a.City, a.CountryRegion, SUM(soh.TotalDue) AS TotalSales\n",
      "FROM SalesLT.Address AS a\n",
      "JOIN SalesLT.SalesOrderHeader AS soh ON a.AddressID = soh.ShipToAddressID\n",
      "GROUP BY a.City, a.CountryRegion\n",
      "ORDER BY TotalSales DESC`\n",
      "\n",
      "\n",
      "\u001b[0m\u001b[36;1m\u001b[1;3mThe provided SQL query does not exhibit any of the common mistakes listed. It correctly uses JOIN for combining tables, GROUP BY for aggregation, and ORDER BY for sorting the results. There is no use of NOT IN, UNION/UNION ALL, BETWEEN, or any functions that require a specific number of arguments. The identifiers are not quoted, but they do not need to be since they do not contain special characters or reserved keywords. The data types for the join condition are assumed to be correct as there is no indication of a mismatch. The query also correctly uses SUM for aggregation and aliases for columns.\n",
      "\n",
      "Here is the original query reproduced:\n",
      "\n",
      "```sql\n",
      "SELECT TOP 10 a.City, a.CountryRegion, SUM(soh.TotalDue) AS TotalSales\n",
      "FROM SalesLT.Address AS a\n",
      "JOIN SalesLT.SalesOrderHeader AS soh ON a.AddressID = soh.ShipToAddressID\n",
      "GROUP BY a.City, a.CountryRegion\n",
      "ORDER BY TotalSales DESC\n",
      "```\u001b[0m\u001b[32;1m\u001b[1;3m\n",
      "Invoking: `sql_db_query` with `SELECT TOP 10 a.City, a.CountryRegion, SUM(soh.TotalDue) AS TotalSales\n",
      "FROM SalesLT.Address AS a\n",
      "JOIN SalesLT.SalesOrderHeader AS soh ON a.AddressID = soh.ShipToAddressID\n",
      "GROUP BY a.City, a.CountryRegion\n",
      "ORDER BY TotalSales DESC`\n",
      "\n",
      "\n",
      "\u001b[0m\u001b[36;1m\u001b[1;3m[('London', 'United Kingdom', Decimal('206736.1667')), ('Woolston', 'United Kingdom', Decimal('119960.8240')), ('Union City', 'United States', Decimal('92663.5609')), ('Liverpool', 'United Kingdom', Decimal('86222.8072')), ('Fullerton', 'United States', Decimal('81834.9826')), ('Gloucestershire', 'United Kingdom', Decimal('70698.9922')), ('Sherman Oaks', 'United States', Decimal('63686.2708')), ('Cerritos', 'United States', Decimal('45992.3665')), ('Van Nuys', 'United States', Decimal('43962.7901')), ('West Sussex', 'United Kingdom', Decimal('42452.6519'))]\u001b[0m\u001b[32;1m\u001b[1;3mThe 10 cities with the highest sales, in descending order, are:\n",
      "\n",
      "1. London, United Kingdom - $206,736.17\n",
      "2. Woolston, United Kingdom - $119,960.82\n",
      "3. Union City, United States - $92,663.56\n",
      "4. Liverpool, United Kingdom - $86,222.81\n",
      "5. Fullerton, United States - $81,834.98\n",
      "6. Gloucestershire, United Kingdom - $70,698.99\n",
      "7. Sherman Oaks, United States - $63,686.27\n",
      "8. Cerritos, United States - $45,992.37\n",
      "9. Van Nuys, United States - $43,962.79\n",
      "10. West Sussex, United Kingdom - $42,452.65\n",
      "\n",
      "Please note that the sales figures are represented in the local currency and have been rounded to two decimal places.\u001b[0m\n",
      "\n",
      "\u001b[1m> Finished chain.\u001b[0m\n"
     ]
    }
   ],
   "source": [
    "response = agent_executor.invoke(\"Give me the breakdown of sales by city and country. Only include the 10 cities with the highest sales in descending order.\") "
   ]
  },
  {
   "cell_type": "code",
   "execution_count": 19,
   "metadata": {},
   "outputs": [
    {
     "name": "stdout",
     "output_type": "stream",
     "text": [
      "\n",
      "\n",
      "\u001b[1m> Entering new SQL Agent Executor chain...\u001b[0m\n",
      "\u001b[32;1m\u001b[1;3m\n",
      "Invoking: `sql_db_list_tables` with ``\n",
      "\n",
      "\n",
      "\u001b[0m\u001b[38;5;200m\u001b[1;3mAddress, Customer, CustomerAddress, Product, ProductCategory, ProductDescription, ProductModel, ProductModelProductDescription, SalesOrderDetail, SalesOrderHeader\u001b[0m\u001b[32;1m\u001b[1;3m\n",
      "Invoking: `sql_db_schema` with `{'table_names': 'SalesOrderHeader,Address'}`\n",
      "\n",
      "\n",
      "\u001b[0m\u001b[33;1m\u001b[1;3m\n",
      "CREATE TABLE [SalesLT].[Address] (\n",
      "\t[AddressID] INTEGER NOT NULL IDENTITY(1,1), \n",
      "\t[AddressLine1] NVARCHAR(60) COLLATE SQL_Latin1_General_CP1_CI_AS NOT NULL, \n",
      "\t[AddressLine2] NVARCHAR(60) COLLATE SQL_Latin1_General_CP1_CI_AS NULL, \n",
      "\t[City] NVARCHAR(30) COLLATE SQL_Latin1_General_CP1_CI_AS NOT NULL, \n",
      "\t[StateProvince] NVARCHAR(50) COLLATE SQL_Latin1_General_CP1_CI_AS NOT NULL, \n",
      "\t[CountryRegion] NVARCHAR(50) COLLATE SQL_Latin1_General_CP1_CI_AS NOT NULL, \n",
      "\t[PostalCode] NVARCHAR(15) COLLATE SQL_Latin1_General_CP1_CI_AS NOT NULL, \n",
      "\trowguid UNIQUEIDENTIFIER NOT NULL DEFAULT (newid()), \n",
      "\t[ModifiedDate] DATETIME NOT NULL DEFAULT (getdate()), \n",
      "\tCONSTRAINT [PK_Address_AddressID] PRIMARY KEY ([AddressID])\n",
      ")\n",
      "\n",
      "/*\n",
      "3 rows from Address table:\n",
      "AddressID\tAddressLine1\tAddressLine2\tCity\tStateProvince\tCountryRegion\tPostalCode\trowguid\tModifiedDate\n",
      "9\t8713 Yosemite Ct.\tNone\tBothell\tWashington\tUnited States\t98011\t268af621-76d7-4c78-9441-144fd139821a\t2006-07-01 00:00:00\n",
      "11\t1318 Lasalle Street\tNone\tBothell\tWashington\tUnited States\t98011\t981b3303-aca2-49c7-9a96-fb670785b269\t2007-04-01 00:00:00\n",
      "25\t9178 Jumping St.\tNone\tDallas\tTexas\tUnited States\t75201\tc8df3bd9-48f0-4654-a8dd-14a67a84d3c6\t2006-09-01 00:00:00\n",
      "*/\n",
      "\n",
      "\n",
      "CREATE TABLE [SalesLT].[SalesOrderHeader] (\n",
      "\t[SalesOrderID] INTEGER NOT NULL DEFAULT (NEXT VALUE FOR [SalesLT].[SalesOrderNumber]), \n",
      "\t[RevisionNumber] TINYINT NOT NULL DEFAULT ((0)), \n",
      "\t[OrderDate] DATETIME NOT NULL DEFAULT (getdate()), \n",
      "\t[DueDate] DATETIME NOT NULL, \n",
      "\t[ShipDate] DATETIME NULL, \n",
      "\t[Status] TINYINT NOT NULL DEFAULT ((1)), \n",
      "\t[OnlineOrderFlag] BIT NOT NULL DEFAULT ((1)), \n",
      "\t[SalesOrderNumber] AS ((isnull(N'SO'+CONVERT([nvarchar](23),[SalesOrderID],(0)),N'*** ERROR ***'))) NOT NULL, \n",
      "\t[PurchaseOrderNumber] NVARCHAR(25) COLLATE SQL_Latin1_General_CP1_CI_AS NULL, \n",
      "\t[AccountNumber] NVARCHAR(15) COLLATE SQL_Latin1_General_CP1_CI_AS NULL, \n",
      "\t[CustomerID] INTEGER NOT NULL, \n",
      "\t[ShipToAddressID] INTEGER NULL, \n",
      "\t[BillToAddressID] INTEGER NULL, \n",
      "\t[ShipMethod] NVARCHAR(50) COLLATE SQL_Latin1_General_CP1_CI_AS NOT NULL, \n",
      "\t[CreditCardApprovalCode] VARCHAR(15) COLLATE SQL_Latin1_General_CP1_CI_AS NULL, \n",
      "\t[SubTotal] MONEY NOT NULL DEFAULT ((0.00)), \n",
      "\t[TaxAmt] MONEY NOT NULL DEFAULT ((0.00)), \n",
      "\t[Freight] MONEY NOT NULL DEFAULT ((0.00)), \n",
      "\t[TotalDue] AS ((isnull(([SubTotal]+[TaxAmt])+[Freight],(0)))) NOT NULL, \n",
      "\t[Comment] NVARCHAR(max) COLLATE SQL_Latin1_General_CP1_CI_AS NULL, \n",
      "\trowguid UNIQUEIDENTIFIER NOT NULL DEFAULT (newid()), \n",
      "\t[ModifiedDate] DATETIME NOT NULL DEFAULT (getdate()), \n",
      "\tCONSTRAINT [PK_SalesOrderHeader_SalesOrderID] PRIMARY KEY ([SalesOrderID]), \n",
      "\tCONSTRAINT [FK_SalesOrderHeader_Address_BillTo_AddressID] FOREIGN KEY([BillToAddressID]) REFERENCES [SalesLT].[Address] ([AddressID]), \n",
      "\tCONSTRAINT [FK_SalesOrderHeader_Address_ShipTo_AddressID] FOREIGN KEY([ShipToAddressID]) REFERENCES [SalesLT].[Address] ([AddressID]), \n",
      "\tCONSTRAINT [FK_SalesOrderHeader_Customer_CustomerID] FOREIGN KEY([CustomerID]) REFERENCES [SalesLT].[Customer] ([CustomerID])\n",
      ")\n",
      "\n",
      "/*\n",
      "3 rows from SalesOrderHeader table:\n",
      "SalesOrderID\tRevisionNumber\tOrderDate\tDueDate\tShipDate\tStatus\tOnlineOrderFlag\tSalesOrderNumber\tPurchaseOrderNumber\tAccountNumber\tCustomerID\tShipToAddressID\tBillToAddressID\tShipMethod\tCreditCardApprovalCode\tSubTotal\tTaxAmt\tFreight\tTotalDue\tComment\trowguid\tModifiedDate\n",
      "71774\t2\t2008-06-01 00:00:00\t2008-06-13 00:00:00\t2008-06-08 00:00:00\t5\tFalse\tSO71774\tPO348186287\t10-4020-000609\t29847\t1092\t1092\tCARGO TRANSPORT 5\tNone\t880.3484\t70.4279\t22.0087\t972.7850\tNone\t89e42cdc-8506-48a2-b89b-eb3e64e3554e\t2008-06-08 00:00:00\n",
      "71776\t2\t2008-06-01 00:00:00\t2008-06-13 00:00:00\t2008-06-08 00:00:00\t5\tFalse\tSO71776\tPO19952192051\t10-4020-000106\t30072\t640\t640\tCARGO TRANSPORT 5\tNone\t78.8100\t6.3048\t1.9703\t87.0851\tNone\t8a3448c5-e677-4158-a29b-dd33069be0b0\t2008-06-08 00:00:00\n",
      "71780\t2\t2008-06-01 00:00:00\t2008-06-13 00:00:00\t2008-06-08 00:00:00\t5\tFalse\tSO71780\tPO19604173239\t10-4020-000340\t30113\t653\t653\tCARGO TRANSPORT 5\tNone\t38418.6895\t3073.4952\t960.4672\t42452.6519\tNone\ta47665d2-7ac9-4cf3-8a8b-2a3883554284\t2008-06-08 00:00:00\n",
      "*/\u001b[0m\u001b[32;1m\u001b[1;3m\n",
      "Invoking: `sql_db_query_checker` with `SELECT TOP 10 a.City, a.CountryRegion, SUM(soh.TotalDue) AS TotalSales\n",
      "FROM SalesLT.Address AS a\n",
      "JOIN SalesLT.SalesOrderHeader AS soh ON a.AddressID = soh.ShipToAddressID\n",
      "GROUP BY a.City, a.CountryRegion\n",
      "ORDER BY TotalSales DESC`\n",
      "\n",
      "\n",
      "\u001b[0m\u001b[36;1m\u001b[1;3mThe provided SQL query does not exhibit any of the common mistakes listed. It correctly uses JOIN for combining tables, GROUP BY for aggregation, and ORDER BY for sorting the results. There is no use of NOT IN, UNION/UNION ALL, BETWEEN, or any functions that require a specific number of arguments. The identifiers are not quoted, but they do not need to be since they do not contain special characters or reserved keywords. The data types for the join condition are assumed to be correct as they are both AddressID fields. There is no explicit casting, but none seems necessary given the context.\n",
      "\n",
      "Here is the original query reproduced:\n",
      "\n",
      "```sql\n",
      "SELECT TOP 10 a.City, a.CountryRegion, SUM(soh.TotalDue) AS TotalSales\n",
      "FROM SalesLT.Address AS a\n",
      "JOIN SalesLT.SalesOrderHeader AS soh ON a.AddressID = soh.ShipToAddressID\n",
      "GROUP BY a.City, a.CountryRegion\n",
      "ORDER BY TotalSales DESC\n",
      "```\u001b[0m\u001b[32;1m\u001b[1;3m\n",
      "Invoking: `sql_db_query` with `SELECT TOP 10 a.City, a.CountryRegion, SUM(soh.TotalDue) AS TotalSales\n",
      "FROM SalesLT.Address AS a\n",
      "JOIN SalesLT.SalesOrderHeader AS soh ON a.AddressID = soh.ShipToAddressID\n",
      "GROUP BY a.City, a.CountryRegion\n",
      "ORDER BY TotalSales DESC`\n",
      "\n",
      "\n",
      "\u001b[0m\u001b[36;1m\u001b[1;3m[('London', 'United Kingdom', Decimal('206736.1667')), ('Woolston', 'United Kingdom', Decimal('119960.8240')), ('Union City', 'United States', Decimal('92663.5609')), ('Liverpool', 'United Kingdom', Decimal('86222.8072')), ('Fullerton', 'United States', Decimal('81834.9826')), ('Gloucestershire', 'United Kingdom', Decimal('70698.9922')), ('Sherman Oaks', 'United States', Decimal('63686.2708')), ('Cerritos', 'United States', Decimal('45992.3665')), ('Van Nuys', 'United States', Decimal('43962.7901')), ('West Sussex', 'United Kingdom', Decimal('42452.6519'))]\u001b[0m\u001b[32;1m\u001b[1;3mAs vendas por cidade e país, incluindo apenas as 10 cidades com as vendas mais altas por ordem decrescente, são:\n",
      "\n",
      "1. London, United Kingdom - $206,736.17\n",
      "2. Woolston, United Kingdom - $119,960.82\n",
      "3. Union City, United States - $92,663.56\n",
      "4. Liverpool, United Kingdom - $86,222.81\n",
      "5. Fullerton, United States - $81,834.98\n",
      "6. Gloucestershire, United Kingdom - $70,698.99\n",
      "7. Sherman Oaks, United States - $63,686.27\n",
      "8. Cerritos, United States - $45,992.37\n",
      "9. Van Nuys, United States - $43,962.79\n",
      "10. West Sussex, United Kingdom - $42,452.65\n",
      "\n",
      "Os valores estão em dólares americanos.\u001b[0m\n",
      "\n",
      "\u001b[1m> Finished chain.\u001b[0m\n"
     ]
    }
   ],
   "source": [
    "response = agent_executor.invoke(\"Dá-me as vendas por cidade e país. Inclui apenas as 10 cidades com as vendas mais altas por ordem decrescente.\") "
   ]
  }
 ],
 "metadata": {
  "kernelspec": {
   "display_name": ".venv",
   "language": "python",
   "name": "python3"
  },
  "language_info": {
   "codemirror_mode": {
    "name": "ipython",
    "version": 3
   },
   "file_extension": ".py",
   "mimetype": "text/x-python",
   "name": "python",
   "nbconvert_exporter": "python",
   "pygments_lexer": "ipython3",
   "version": "3.12.2"
  },
  "orig_nbformat": 4
 },
 "nbformat": 4,
 "nbformat_minor": 2
}
